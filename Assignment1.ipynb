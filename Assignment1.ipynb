{
 "cells": [
  {
   "cell_type": "raw",
   "id": "5f66570c-b43b-43bc-92b7-d4291f278fda",
   "metadata": {},
   "source": [
    "Q1. Create one variable containing following type of data:\n",
    "(i) string\n",
    "(ii) list\n",
    "(iii) float\n",
    "(iv) tuple"
   ]
  },
  {
   "cell_type": "markdown",
   "id": "5ccd13a9-bc90-4edb-a020-f3590bd5d6de",
   "metadata": {},
   "source": [
    "Answer no.1"
   ]
  },
  {
   "cell_type": "code",
   "execution_count": 22,
   "id": "4e518f03-e192-4576-b1c9-fe0af04e8d5b",
   "metadata": {},
   "outputs": [],
   "source": [
    "l=[\"ram\",34.46,(2,3,4)]"
   ]
  },
  {
   "cell_type": "code",
   "execution_count": 25,
   "id": "a4cbbadc-0498-495a-b7de-865d7b42e088",
   "metadata": {},
   "outputs": [
    {
     "data": {
      "text/plain": [
       "['ram', 34.46, (2, 3, 4)]"
      ]
     },
     "execution_count": 25,
     "metadata": {},
     "output_type": "execute_result"
    }
   ],
   "source": [
    "l"
   ]
  },
  {
   "cell_type": "code",
   "execution_count": 23,
   "id": "815415cb-9706-4770-8c28-8a302deb053c",
   "metadata": {},
   "outputs": [
    {
     "data": {
      "text/plain": [
       "'ram'"
      ]
     },
     "execution_count": 23,
     "metadata": {},
     "output_type": "execute_result"
    }
   ],
   "source": [
    "l[0]"
   ]
  },
  {
   "cell_type": "code",
   "execution_count": 24,
   "id": "28644f85-d430-4dea-870c-44a443c8c93d",
   "metadata": {},
   "outputs": [
    {
     "data": {
      "text/plain": [
       "str"
      ]
     },
     "execution_count": 24,
     "metadata": {},
     "output_type": "execute_result"
    }
   ],
   "source": [
    "type(l[0])"
   ]
  },
  {
   "cell_type": "code",
   "execution_count": 26,
   "id": "b6d1f907-b8c6-4812-bc43-e3b354e87e9b",
   "metadata": {},
   "outputs": [
    {
     "data": {
      "text/plain": [
       "['ram', 34.46, (2, 3, 4)]"
      ]
     },
     "execution_count": 26,
     "metadata": {},
     "output_type": "execute_result"
    }
   ],
   "source": [
    "l"
   ]
  },
  {
   "cell_type": "code",
   "execution_count": 27,
   "id": "6274770f-1416-4847-b471-7f6e5e337b7d",
   "metadata": {},
   "outputs": [
    {
     "data": {
      "text/plain": [
       "list"
      ]
     },
     "execution_count": 27,
     "metadata": {},
     "output_type": "execute_result"
    }
   ],
   "source": [
    "type(l)"
   ]
  },
  {
   "cell_type": "code",
   "execution_count": 28,
   "id": "57804663-c1db-4181-9a04-945dffb2735c",
   "metadata": {},
   "outputs": [
    {
     "data": {
      "text/plain": [
       "34.46"
      ]
     },
     "execution_count": 28,
     "metadata": {},
     "output_type": "execute_result"
    }
   ],
   "source": [
    "l[1]"
   ]
  },
  {
   "cell_type": "code",
   "execution_count": 30,
   "id": "7a69e75b-f415-468d-b68f-aa58adf4fca4",
   "metadata": {},
   "outputs": [
    {
     "data": {
      "text/plain": [
       "float"
      ]
     },
     "execution_count": 30,
     "metadata": {},
     "output_type": "execute_result"
    }
   ],
   "source": [
    "type(l[1])"
   ]
  },
  {
   "cell_type": "code",
   "execution_count": 31,
   "id": "c557e052-b85d-42ab-88e2-d03ed792372a",
   "metadata": {},
   "outputs": [
    {
     "data": {
      "text/plain": [
       "(2, 3, 4)"
      ]
     },
     "execution_count": 31,
     "metadata": {},
     "output_type": "execute_result"
    }
   ],
   "source": [
    "l[2]"
   ]
  },
  {
   "cell_type": "code",
   "execution_count": 32,
   "id": "2fff1150-f2e6-4723-a1dd-0f6e43ffb6b4",
   "metadata": {},
   "outputs": [
    {
     "data": {
      "text/plain": [
       "tuple"
      ]
     },
     "execution_count": 32,
     "metadata": {},
     "output_type": "execute_result"
    }
   ],
   "source": [
    "type(l[2])"
   ]
  },
  {
   "cell_type": "raw",
   "id": "fb0fb800-cf47-4bb6-acbd-26f88e70bfd8",
   "metadata": {},
   "source": [
    "Q2. Given are some following variables containing data:\n",
    "(i) var1 = ‘ ‘\n",
    "(ii) var2 = ‘[ DS , ML , Python]’\n",
    "(iii) var3 = [ ‘DS’ , ’ML’ , ‘Python’ ]\n",
    "(iv) var4 = 1."
   ]
  },
  {
   "cell_type": "markdown",
   "id": "91a6fb0a-8f0a-4c62-96ac-173fe701aa4d",
   "metadata": {},
   "source": [
    "Answer no.2"
   ]
  },
  {
   "cell_type": "markdown",
   "id": "f6d88ba6-69e7-4cb5-ad1c-31f33daadb93",
   "metadata": {},
   "source": [
    "(i)"
   ]
  },
  {
   "cell_type": "code",
   "execution_count": 1,
   "id": "3cfc237a-19d5-4085-9ae5-f3ef6e7a19b3",
   "metadata": {},
   "outputs": [],
   "source": [
    "var1 = ''"
   ]
  },
  {
   "cell_type": "code",
   "execution_count": 2,
   "id": "1f4bd0a0-2832-4abd-a3a4-004ea7937c56",
   "metadata": {},
   "outputs": [
    {
     "data": {
      "text/plain": [
       "str"
      ]
     },
     "execution_count": 2,
     "metadata": {},
     "output_type": "execute_result"
    }
   ],
   "source": [
    "type(var1)"
   ]
  },
  {
   "cell_type": "markdown",
   "id": "c834bf45-d8c8-494a-902e-342b4c543d39",
   "metadata": {},
   "source": [
    "(ii)"
   ]
  },
  {
   "cell_type": "code",
   "execution_count": 3,
   "id": "28468502-04b7-49b2-8780-dd3a46115cee",
   "metadata": {},
   "outputs": [],
   "source": [
    "var2 = '[DS,ML,Python]'"
   ]
  },
  {
   "cell_type": "code",
   "execution_count": 4,
   "id": "02ff47d2-f329-4461-b239-a6912006f4e3",
   "metadata": {},
   "outputs": [
    {
     "data": {
      "text/plain": [
       "str"
      ]
     },
     "execution_count": 4,
     "metadata": {},
     "output_type": "execute_result"
    }
   ],
   "source": [
    "type(var2)"
   ]
  },
  {
   "cell_type": "markdown",
   "id": "ab38e4cd-c16b-4f97-8187-038fa40b3714",
   "metadata": {},
   "source": [
    "(iii)"
   ]
  },
  {
   "cell_type": "code",
   "execution_count": 5,
   "id": "2e8c3036-ba68-4c54-95bc-3059e3aa12da",
   "metadata": {},
   "outputs": [],
   "source": [
    "var3 = ['DS','ML','Python']"
   ]
  },
  {
   "cell_type": "code",
   "execution_count": 6,
   "id": "46cb6cdf-1187-4685-bc19-0da951c1d8a5",
   "metadata": {},
   "outputs": [
    {
     "data": {
      "text/plain": [
       "list"
      ]
     },
     "execution_count": 6,
     "metadata": {},
     "output_type": "execute_result"
    }
   ],
   "source": [
    "type(var3)"
   ]
  },
  {
   "cell_type": "markdown",
   "id": "39f00a91-2761-4c69-aa3d-9760fe9d28bd",
   "metadata": {},
   "source": [
    "(iv)"
   ]
  },
  {
   "cell_type": "code",
   "execution_count": 7,
   "id": "0d6802bc-019a-45fa-aa00-2720ed131491",
   "metadata": {},
   "outputs": [],
   "source": [
    "var4 = 1."
   ]
  },
  {
   "cell_type": "code",
   "execution_count": 8,
   "id": "e45f933f-ae47-476d-919c-96cb18feea9e",
   "metadata": {},
   "outputs": [
    {
     "data": {
      "text/plain": [
       "float"
      ]
     },
     "execution_count": 8,
     "metadata": {},
     "output_type": "execute_result"
    }
   ],
   "source": [
    "type(var4)"
   ]
  },
  {
   "cell_type": "raw",
   "id": "604f233a-96af-4447-a4f4-000bbba43f2b",
   "metadata": {},
   "source": [
    "Q3. Explain the use of the following operators using an example:\n",
    "(i) /\n",
    "(ii) %\n",
    "(iii) //\n",
    "(iv) **"
   ]
  },
  {
   "cell_type": "markdown",
   "id": "a7e7ebc0-cfd9-464c-841f-70042d1cd338",
   "metadata": {},
   "source": [
    "Answer no.3"
   ]
  },
  {
   "cell_type": "code",
   "execution_count": 9,
   "id": "3f6c8d48-e2ce-42e7-9c77-88c8bc2bbd18",
   "metadata": {},
   "outputs": [
    {
     "name": "stdout",
     "output_type": "stream",
     "text": [
      "Division:  3.5\n",
      "Modulo:  1\n",
      "Floor Division:  3\n",
      "Power:  49\n"
     ]
    }
   ],
   "source": [
    "a = 7\n",
    "b = 2\n",
    "# division\n",
    "print ('Division: ', a / b) \n",
    "# modulo\n",
    "print ('Modulo: ', a % b)  \n",
    "# floor division\n",
    "print ('Floor Division: ', a // b)\n",
    "# a to the power b\n",
    "print ('Power: ', a ** b)  "
   ]
  },
  {
   "cell_type": "raw",
   "id": "ae42d6db-53cf-44b4-a1c8-75ab96abdef4",
   "metadata": {},
   "source": [
    "Q4. Create a list of length 10 of your choice containing multiple types of data. Using for loop print the\n",
    "element and its data type."
   ]
  },
  {
   "cell_type": "markdown",
   "id": "20e0b3c4-eef3-44ad-9b6d-3f379cfcabb3",
   "metadata": {},
   "source": [
    "Answer no.4"
   ]
  },
  {
   "cell_type": "code",
   "execution_count": 12,
   "id": "bf8fd830-4ce0-4914-a912-e623436c4463",
   "metadata": {},
   "outputs": [
    {
     "name": "stdout",
     "output_type": "stream",
     "text": [
      "Element: 10, Data Type: int\n",
      "Element: Hello, Data Type: str\n",
      "Element: 3.14, Data Type: float\n",
      "Element: b'Hello', Data Type: bytes\n",
      "Element: [1, 2, 3], Data Type: list\n",
      "Element: {'name': 'John', 'age': 30}, Data Type: dict\n",
      "Element: None, Data Type: NoneType\n",
      "Element: (1, 2, 3), Data Type: tuple\n",
      "Element: False, Data Type: bool\n",
      "Element: (3+7j), Data Type: complex\n"
     ]
    }
   ],
   "source": [
    "data_list = [10, \"Hello\", 3.14,b\"Hello\", [1, 2, 3], {\"name\": \"John\", \"age\": 30}, None, (1, 2, 3), False,3+7j]\n",
    "\n",
    "for element in data_list:\n",
    "    print(f\"Element: {element}, Data Type: {type(element).__name__}\")"
   ]
  },
  {
   "cell_type": "raw",
   "id": "b185cd24-8267-4095-81a8-071d0311be83",
   "metadata": {},
   "source": [
    "Q5. Using a while loop, verify if the number A is purely divisible by number B and if so then how many\n",
    "times it can be divisible."
   ]
  },
  {
   "cell_type": "markdown",
   "id": "aaef250e-3f39-45f8-9d20-c699edf0f33d",
   "metadata": {},
   "source": [
    "Answer no.5"
   ]
  },
  {
   "cell_type": "code",
   "execution_count": 13,
   "id": "4811c83f-51c0-4419-ac18-5c8574c59edc",
   "metadata": {},
   "outputs": [
    {
     "name": "stdout",
     "output_type": "stream",
     "text": [
      "30 is divisible by 5 6 times.\n"
     ]
    }
   ],
   "source": [
    "def divisible_count(A, B):\n",
    "    count = 0\n",
    "    while A >= B:\n",
    "        A -= B\n",
    "        count += 1\n",
    "    return count\n",
    "A = 30\n",
    "B = 5\n",
    "\n",
    "if B != 0:\n",
    "    result = divisible_count(A, B)\n",
    "    print(f\"{A} is divisible by {B} {result} times.\")\n",
    "else:\n",
    "    print(\"The divisor (B) should not be zero.\")\n"
   ]
  },
  {
   "cell_type": "raw",
   "id": "582bea02-48ac-439c-b143-bb0836bb7feb",
   "metadata": {},
   "source": [
    "Q6. Create a list containing 25 int type data. Using for loop and if-else condition print if the element is\n",
    "divisible by 3 or not."
   ]
  },
  {
   "cell_type": "markdown",
   "id": "d4e05aa9-3741-4b36-b414-1822024589c7",
   "metadata": {},
   "source": [
    "Answer no.6"
   ]
  },
  {
   "cell_type": "code",
   "execution_count": 15,
   "id": "eafb5dac-9881-44bc-a680-e89a3078e19c",
   "metadata": {},
   "outputs": [
    {
     "name": "stdout",
     "output_type": "stream",
     "text": [
      "12 is divisible by 3.\n",
      "7 is not divisible by 3.\n",
      "21 is divisible by 3.\n",
      "36 is divisible by 3.\n",
      "45 is divisible by 3.\n",
      "13 is not divisible by 3.\n",
      "27 is divisible by 3.\n",
      "90 is divisible by 3.\n",
      "15 is divisible by 3.\n",
      "8 is not divisible by 3.\n",
      "33 is divisible by 3.\n",
      "72 is divisible by 3.\n",
      "50 is not divisible by 3.\n",
      "9 is divisible by 3.\n",
      "63 is divisible by 3.\n",
      "18 is divisible by 3.\n",
      "11 is not divisible by 3.\n",
      "81 is divisible by 3.\n",
      "30 is divisible by 3.\n",
      "24 is divisible by 3.\n",
      "42 is divisible by 3.\n",
      "17 is not divisible by 3.\n",
      "55 is not divisible by 3.\n",
      "22 is not divisible by 3.\n",
      "88 is not divisible by 3.\n"
     ]
    }
   ],
   "source": [
    "data_list = [12, 7, 21, 36, 45, 13, 27, 90, 15, 8, 33, 72, 50, 9, 63, 18, 11, 81, 30, 24, 42, 17, 55, 22, 88]\n",
    "for element in data_list:\n",
    "    if element % 3 == 0:\n",
    "        print(f\"{element} is divisible by 3.\")\n",
    "    else:\n",
    "        print(f\"{element} is not divisible by 3.\")\n"
   ]
  },
  {
   "cell_type": "raw",
   "id": "8d8b63ba-40d9-4f49-af7c-9010d903267a",
   "metadata": {},
   "source": [
    "Q7. What do you understand about mutable and immutable data types? Give examples for both showing\n",
    "this property."
   ]
  },
  {
   "cell_type": "markdown",
   "id": "5b87f908-eeb3-4494-8170-f56fedc361a5",
   "metadata": {},
   "source": [
    "Answer no.7"
   ]
  },
  {
   "cell_type": "markdown",
   "id": "e123bb4e-9bb1-47e0-b977-14cfa920040e",
   "metadata": {},
   "source": [
    "Understanding the mutability and immutability of data types is crucial because it impacts how data is stored and modified in memory, as well as how objects are passed between functions. Immutable objects are safe from unintentional side effects, while mutable objects need to be handled carefully to avoid unexpected changes."
   ]
  },
  {
   "cell_type": "raw",
   "id": "46282256-e604-4e3a-9c29-d8ecc63abddf",
   "metadata": {},
   "source": [
    "Mutability"
   ]
  },
  {
   "cell_type": "code",
   "execution_count": 16,
   "id": "5ad0a4f6-5308-4f2c-ab2f-75aaabe8913b",
   "metadata": {},
   "outputs": [
    {
     "name": "stdout",
     "output_type": "stream",
     "text": [
      "[1, 2, 3, 4, 5]\n"
     ]
    }
   ],
   "source": [
    "numbers = [1, 2, 3, 4]\n",
    "numbers.append(5)  \n",
    "print(numbers)     \n"
   ]
  },
  {
   "cell_type": "raw",
   "id": "557ab5b7-56a8-4382-8c00-7940308a857d",
   "metadata": {},
   "source": [
    "Immutability"
   ]
  },
  {
   "cell_type": "code",
   "execution_count": 17,
   "id": "40e1dc88-dde2-421f-bd27-3d4aba8160e0",
   "metadata": {},
   "outputs": [
    {
     "name": "stdout",
     "output_type": "stream",
     "text": [
      "John\n",
      "Jane\n"
     ]
    }
   ],
   "source": [
    "name = \"John\"\n",
    "new_name = name.replace(\"John\", \"Jane\")  \n",
    "print(name)      \n",
    "print(new_name)"
   ]
  }
 ],
 "metadata": {
  "kernelspec": {
   "display_name": "Python 3 (ipykernel)",
   "language": "python",
   "name": "python3"
  },
  "language_info": {
   "codemirror_mode": {
    "name": "ipython",
    "version": 3
   },
   "file_extension": ".py",
   "mimetype": "text/x-python",
   "name": "python",
   "nbconvert_exporter": "python",
   "pygments_lexer": "ipython3",
   "version": "3.10.8"
  }
 },
 "nbformat": 4,
 "nbformat_minor": 5
}
